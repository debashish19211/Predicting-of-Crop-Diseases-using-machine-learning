{
 "cells": [
  {
   "cell_type": "code",
   "execution_count": 1,
   "metadata": {},
   "outputs": [],
   "source": [
    "# importing packages\n",
    "\n",
    "import pandas as pd\n",
    "import numpy as np\n",
    "import os\n",
    "import skimage\n",
    "import sklearn\n",
    "from sklearn import svm, metrics\n",
    "from sklearn.metrics import confusion_matrix, accuracy_score, roc_curve, roc_auc_score\n",
    "from sklearn.model_selection import train_test_split\n",
    "import csv\n",
    "import argparse\n",
    "import cv2\n",
    "import matplotlib.pyplot as plt\n",
    "from skimage.feature import greycomatrix, greycoprops\n",
    "from sklearn import svm\n",
    "from os import listdir\n",
    "from os.path import isfile,join"
   ]
  },
  {
   "cell_type": "code",
   "execution_count": 5,
   "metadata": {},
   "outputs": [],
   "source": [
    "def feature_extraction (file_path, image_files, mark, output_file):\n",
    "    \n",
    "    image = np.empty(len(image_files), dtype=object)\n",
    "\n",
    "    for n in range(0,len(image_files)):\n",
    "        \n",
    "        # loading images with the help of cv2 module in the form of BGR\n",
    "\n",
    "        image[n] = cv2.imread(join(file_path, image_files[n]))\n",
    "\n",
    "        # converting BGR (BLUE, GREEN, RED) into HSV (HUE, SATURATION , VALUE) format\n",
    "        ### BGR having intensity of color or related with color luminance which cannot separate colors so to separate colors so we use hsv\n",
    "\n",
    "        # h stands for hue - used to measure wavelength found in dominant color\n",
    "        # s stands for standard - measure size of amount of white light present in hue.\n",
    "\n",
    "\n",
    "        image_hsv = cv2.cvtColor(image[n],cv2.COLOR_BGR2HSV)\n",
    "\n",
    "\n",
    "        # separating the green color part in mask variable using cv2.inRange\n",
    "\n",
    "        #(30,0,0) - lower bound for green region\n",
    "        #(70,255,255) - upper bound for green color\n",
    "\n",
    "        ## mask is containing value of green region\n",
    "        mask = cv2.inRange(image_hsv,(30,0,0) ,(70,255,255)) \n",
    "\n",
    "        # taking out the ratio by dividing mask with whole imagesize\n",
    "\n",
    "        ratio_of_green = cv2.countNonZero(mask)/(image.size/3)\n",
    "        feature1 = np.round(ratio_of_green,2) \n",
    "\n",
    "        # Feature 2 amount of non-green colour in the picture\n",
    "\n",
    "        feature2 = 1-feature1\n",
    "\n",
    "        # cv2.split - it convert the hsv image into 3 different matrix sections of blue , green, red respectively.\n",
    "        ##Each matrix is to dimensional-array\n",
    "\n",
    "        ## feature3\n",
    "        \n",
    "        # converting the image into gray color\n",
    "        image_gray = cv2.cvtColor(image[n],cv2.COLOR_BGR2GRAY)\n",
    "\n",
    "        # fitting in gaussian curve\n",
    "        gray = cv2.GaussianBlur(image_gray,(3,3),0)\n",
    "        \n",
    "        # able to find small spots in image with the help of otsu\n",
    "        otsu, biny = cv2.threshold(gray,0,255,cv2.THRESH_OTSU | cv2.THRESH_BINARY_INV )\n",
    "        \n",
    "        # help in defining the boundary\n",
    "        contours, temp = cv2.findContours(biny, cv2.RETR_EXTERNAL, cv2.CHAIN_APPROX_SIMPLE)\n",
    "        \n",
    "        # taking out the perimeter of image\n",
    "        peri = 0\n",
    "        for c in contours:\n",
    "            peri = peri + cv2.arcLength(c,True)\n",
    "        feature3 = peri / 150\n",
    "\n",
    "\n",
    "        ## feature 4\n",
    "        \n",
    "        # taking out the contrast from the background\n",
    "        grey_scale = greycomatrix(image_gray,[1,2], [0, np.pi/2, 3*np.pi/4])\n",
    "        contrast = greycoprops(grey_scale,\"contrast\")\n",
    "\n",
    "        feature_4 = contrast[0][0]+contrast[0][1]+contrast[0][2]+contrast[1][0]+contrast[1][1]+contrast[1][2]\n",
    "        feature_4 = feature_4/20000\n",
    "        \n",
    "        # writing data in csv file\n",
    "        l = [int(mark),feature1,feature2,feature3,feature_4]\n",
    "        out = open(output_file, \"a\")\n",
    "        for row in l:\n",
    "            out.write('%f,'%row)\n",
    "\n",
    "        out.write(\"\\n\")\n",
    "        out.close()\n"
   ]
  },
  {
   "cell_type": "code",
   "execution_count": 6,
   "metadata": {},
   "outputs": [
    {
     "name": "stdout",
     "output_type": "stream",
     "text": [
      "'diseased' with label 0 having 266 numbers\n",
      "'healthy' with label 1 having 327 numbers\n"
     ]
    }
   ],
   "source": [
    "##### code for training\n",
    "\n",
    "os.chdir (\"E://Mtech programs/ACB/Project/Final_codes/training/\")\n",
    "files = os.listdir ('E://Mtech programs/ACB/Project/Final_codes/training/')\n",
    "path = \"E://Mtech programs/ACB/Project/Final_codes/training/\"\n",
    "output_file = 'training.csv'\n",
    "\n",
    "####healthy mark -0 -327\n",
    "##### diseased mark -1 -266\n",
    "\n",
    "###code for test\n",
    "\n",
    "# os.chdir (\"/home/kajal/MTECH/ACB/PROJECT/dataset/test/\")\n",
    "# files = os.listdir ('/home/kajal/MTECH/ACB/PROJECT/dataset/test//')\n",
    "# path = \"/home/kajal/MTECH/ACB/PROJECT/dataset/test//\"\n",
    "# output_file = 'test.csv'\n",
    "\n",
    "mark = 0\n",
    "\n",
    "for i in files:\n",
    "    \n",
    "    # reading heathy and diseased images one by one which are different folders\n",
    "    file_path = path + i\n",
    "    \n",
    "    image_files = [leaf for leaf in listdir(file_path) if isfile (join(file_path,leaf))]\n",
    "    \n",
    "    print('%r with label %r having %r numbers'%(i, mark, len(image_files)))\n",
    "    \n",
    "    # calling feature extracting function and saving data in given output file name\n",
    "    feature_extraction(file_path, image_files, mark, output_file)\n",
    "    \n",
    "    # changing label for different dataset type\n",
    "    mark = mark +1\n",
    "    "
   ]
  },
  {
   "cell_type": "markdown",
   "metadata": {},
   "source": [
    "# SVM Analysis for characterisation between healthy and diseased leaves"
   ]
  },
  {
   "cell_type": "code",
   "execution_count": 7,
   "metadata": {},
   "outputs": [],
   "source": [
    "#### reading feature table \n",
    "#### producing full matrix, list of lables and list of list of features respectively\n",
    "\n",
    "def label_featurematrix (input_file):\n",
    "    \n",
    "    training_csv = pd.read_csv(input_file, header = None)\n",
    "\n",
    "    ### giving column names and refining data\n",
    "    training_csv.columns = ['label', 'feature1', 'feature2', 'feature3','feature4','drop']\n",
    "    training_csv = training_csv.drop(['drop'], axis = 1)\n",
    "    training_csv = training_csv.astype({'label': int})\n",
    "\n",
    "    ### creating label and feature list\n",
    "    label = training_csv.label\n",
    "    features_data = training_csv\n",
    "    features_data = features_data.drop(['label'], axis = 'columns')\n",
    "    \n",
    "    return(training_csv, label, features_data)"
   ]
  },
  {
   "cell_type": "code",
   "execution_count": 9,
   "metadata": {},
   "outputs": [],
   "source": [
    "## plotting graph between two features\n",
    "\n",
    "def plot_graph_features (input_file, x_feature, y_feature): # named as feature1 or feature2 \n",
    "    \n",
    "    training_csv = pd.read_csv(input_file, header = None)\n",
    "\n",
    "    ### giving column names and refining data\n",
    "    training_csv.columns = ['label', 'feature1', 'feature2', 'feature3','feature4','drop']\n",
    "    training_csv = training_csv.drop(['drop'], axis = 1)\n",
    "    training_csv = training_csv.astype({'label': int})\n",
    "    \n",
    "    ### forming different dataframe on basis of label\n",
    "    healthy = training_csv[training_csv.label == 0]\n",
    "    diseased = training_csv[training_csv.label == 1]\n",
    "\n",
    "    #### plotting graph between features\n",
    "    \n",
    "    print('Healthy with green and diseased with blue')\n",
    "    plt.xlabel(x_feature,fontsize = 14)\n",
    "    plt.ylabel(y_feature, fontsize = 14)\n",
    "    \n",
    "    # scatter plots\n",
    "    plt.scatter(healthy[x_feature], healthy[y_feature],color='green',marker='+')\n",
    "    plt.scatter(diseased[x_feature], diseased[y_feature],color='blue',marker='*')\n"
   ]
  },
  {
   "cell_type": "code",
   "execution_count": 10,
   "metadata": {},
   "outputs": [
    {
     "name": "stdout",
     "output_type": "stream",
     "text": [
      "Healthy with green and diseased with blue\n",
      "474 474 119 119\n"
     ]
    },
    {
     "data": {
      "image/png": "[encoded data removed]",
      "text/plain": [
       "<Figure size 432x288 with 1 Axes>"
      ]
     },
     "metadata": {
      "needs_background": "light"
     },
     "output_type": "display_data"
    }
   ],
   "source": [
    "### for training dataset\n",
    "os.chdir (\"E://Mtech programs/ACB/Project/Final_codes/training/\")\n",
    "full, label, features_data = label_featurematrix ('training.csv')\n",
    "plot_graph_features ('training.csv', 'feature1', 'feature4')\n",
    "\n",
    "feature_train, feature_test, label_train, label_test = train_test_split(features_data, label, test_size = 0.2)\n",
    "print(len(feature_train), len(label_train), len(feature_test), len(label_test))"
   ]
  },
  {
   "cell_type": "code",
   "execution_count": 8,
   "metadata": {},
   "outputs": [],
   "source": [
    "# #### for testing dataset\n",
    "# os.chdir (\"/home/kajal/MTECH/ACB/PROJECT/dataset/test/\")\n",
    "# full_test, label_test,features_data_test = label_featurematrix ('test.csv')\n",
    "# plot_graph_features ('test.csv', 'feature1', 'feature4')\n",
    "\n"
   ]
  },
  {
   "cell_type": "code",
   "execution_count": 16,
   "metadata": {},
   "outputs": [
    {
     "data": {
      "text/plain": [
       "SVC(C=1.0, cache_size=200, class_weight=None, coef0=0.0,\n",
       "    decision_function_shape='ovr', degree=3, gamma='auto_deprecated',\n",
       "    kernel='linear', max_iter=-1, probability=True, random_state=None,\n",
       "    shrinking=True, tol=0.001, verbose=False)"
      ]
     },
     "execution_count": 16,
     "metadata": {},
     "output_type": "execute_result"
    }
   ],
   "source": [
    "## training the data with svm\n",
    "\n",
    "classifi = svm.SVC(kernel = 'linear',C = 1.0, probability=True)\n",
    "classifi.fit(feature_train, label_train)"
   ]
  },
  {
   "cell_type": "code",
   "execution_count": 17,
   "metadata": {},
   "outputs": [
    {
     "name": "stdout",
     "output_type": "stream",
     "text": [
      "Score: 0.9411764705882353\n",
      "Accuracy score: 0.9411764705882353\n",
      "Confusion matrix: array([[54,  2],\n",
      "       [ 5, 58]], dtype=int64)\n"
     ]
    }
   ],
   "source": [
    "# predicting accuracy\n",
    "pred_train = classifi.predict(feature_test)\n",
    "\n",
    "accuracy = classifi.score(feature_test,label_test)\n",
    "print(\"Score: %r\" % accuracy)\n",
    "\n",
    "tpfp = confusion_matrix(label_test, pred_train)\n",
    "\n",
    "acc_score = accuracy_score(label_test, pred_train)\n",
    "print(\"Accuracy score: %r\" % accuracy)\n",
    "\n",
    "print(\"Confusion matrix: %r\" %tpfp)"
   ]
  },
  {
   "cell_type": "code",
   "execution_count": 19,
   "metadata": {},
   "outputs": [
    {
     "name": "stdout",
     "output_type": "stream",
     "text": [
      "[1.47269804e-02 9.89696054e-01 9.69907330e-01 9.93165159e-01\n",
      " 6.99551967e-01 7.44965472e-01 9.54426366e-01 3.54584498e-01\n",
      " 8.34095754e-03 9.79550334e-03 9.30757302e-01 8.13408620e-02\n",
      " 8.32995388e-02 5.38152623e-03 1.01283962e-02 2.45519010e-01\n",
      " 8.99775781e-01 2.76886886e-02 7.90891508e-03 9.91342289e-01\n",
      " 1.68105564e-02 2.99788078e-03 9.61297822e-01 8.53590937e-01\n",
      " 8.60868421e-01 1.83605442e-01 6.42858701e-01 2.42041884e-06\n",
      " 6.85661242e-02 2.64369868e-01 4.34517429e-02 9.35064117e-01\n",
      " 9.83669903e-01 8.52169208e-01 2.57293969e-06 6.36701560e-07\n",
      " 8.26762916e-01 9.98861816e-01 9.94798649e-01 3.35120452e-03\n",
      " 9.68914864e-01 1.97797976e-06 9.40053759e-01 8.15519791e-02\n",
      " 1.42309908e-02 1.27029435e-05 1.53139274e-07 9.90110938e-01\n",
      " 1.16257375e-02 9.65986980e-01 2.08974337e-01 7.06043761e-07\n",
      " 1.91744159e-05 2.63062014e-01 9.74057738e-01 9.66415094e-01\n",
      " 5.42763762e-03 1.64307773e-01 8.95377287e-01 9.92170974e-01\n",
      " 8.74338917e-01 2.51141572e-02 9.37956769e-01 2.82346259e-02\n",
      " 9.67722281e-01 5.20487178e-02 9.83175025e-01 3.54717050e-03\n",
      " 8.46312026e-01 9.47615709e-01 2.53308423e-02 9.52871749e-01\n",
      " 6.62488867e-01 9.13565414e-01 5.59733692e-01 1.62837477e-06\n",
      " 1.67400624e-02 8.69701905e-03 9.35795119e-01 2.09856073e-07\n",
      " 9.98100903e-01 2.59611124e-01 9.41092302e-01 3.67678896e-06\n",
      " 8.27085691e-01 9.71557517e-01 8.50896862e-01 7.03470092e-07\n",
      " 1.13792488e-01 9.80974935e-01 6.42638249e-06 6.61682390e-01\n",
      " 7.72238158e-01 9.72114673e-01 7.81269752e-01 7.19930178e-07\n",
      " 1.44424022e-05 5.49226345e-01 1.78373014e-05 9.05740799e-01\n",
      " 5.30689511e-09 5.47396278e-03 1.33119887e-05 9.07279484e-01\n",
      " 8.50857731e-01 3.83318427e-02 5.35684609e-01 9.76097182e-01\n",
      " 3.35582064e-10 8.42092438e-01 9.76012355e-01 7.90860827e-01\n",
      " 9.12146852e-08 4.32678233e-02 2.82276523e-03 8.57961690e-01\n",
      " 4.23325579e-07 5.41459037e-06 7.96504983e-01]\n",
      "0.026360544217687076\n"
     ]
    }
   ],
   "source": [
    "# roc curve\n",
    "# probability\n",
    "probab = classifi.predict_proba(feature_test)\n",
    "probab = probab[:,0]\n",
    "print(probab)"
   ]
  },
  {
   "cell_type": "code",
   "execution_count": 23,
   "metadata": {},
   "outputs": [
    {
     "data": {
      "text/plain": [
       "[<matplotlib.lines.Line2D at 0x2149fc44bc8>]"
      ]
     },
     "execution_count": 23,
     "metadata": {},
     "output_type": "execute_result"
    },
    {
     "data": {
      "image/png": "[encoded data removed]",
      "text/plain": [
       "<Figure size 432x288 with 1 Axes>"
      ]
     },
     "metadata": {
      "needs_background": "light"
     },
     "output_type": "display_data"
    }
   ],
   "source": [
    "\n",
    "# false positive rate, true positive rate, threshold\n",
    "fpr, tpr, thre = roc_curve(label_test, probab)\n",
    "\n",
    "# plotting the graph\n",
    "plt.plot([0,1],[0,1], linestyle = '--')\n",
    "\n",
    "plt.xlabel(\"False positives\")\n",
    "plt.ylabel(\"True postives\")\n",
    "\n",
    "plt.plot(fpr, tpr, marker ='.', color ='orange')\n"
   ]
  },
  {
   "cell_type": "code",
   "execution_count": null,
   "metadata": {},
   "outputs": [],
   "source": []
  }
 ],
 "metadata": {
  "kernelspec": {
   "display_name": "Python 3",
   "language": "python",
   "name": "python3"
  },
  "language_info": {
   "codemirror_mode": {
    "name": "ipython",
    "version": 3
   },
   "file_extension": ".py",
   "mimetype": "text/x-python",
   "name": "python",
   "nbconvert_exporter": "python",
   "pygments_lexer": "ipython3",
   "version": "3.7.4"
  }
 },
 "nbformat": 4,
 "nbformat_minor": 2
}
